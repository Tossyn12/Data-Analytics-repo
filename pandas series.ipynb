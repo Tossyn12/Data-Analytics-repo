{
 "cells": [
  {
   "cell_type": "code",
   "execution_count": 1,
   "id": "6b395ffd",
   "metadata": {},
   "outputs": [],
   "source": [
    "import pandas\n",
    "import numpy"
   ]
  },
  {
   "cell_type": "code",
   "execution_count": 4,
   "id": "0f648d4e",
   "metadata": {},
   "outputs": [],
   "source": [
    "certificate = pandas.Series([20.433, 32.456, 60.444, 12.322], index=['canada', 'england', 'america', 'nigeria'])"
   ]
  },
  {
   "cell_type": "code",
   "execution_count": 8,
   "id": "898acf1c",
   "metadata": {},
   "outputs": [],
   "source": [
    "certificate.name= 'country\\'s population in percentage'"
   ]
  },
  {
   "cell_type": "code",
   "execution_count": 9,
   "id": "d9582a8c",
   "metadata": {},
   "outputs": [
    {
     "data": {
      "text/plain": [
       "canada     20.433\n",
       "england    32.456\n",
       "america    60.444\n",
       "nigeria    12.322\n",
       "Name: country's population in percentage, dtype: float64"
      ]
     },
     "execution_count": 9,
     "metadata": {},
     "output_type": "execute_result"
    }
   ],
   "source": [
    "certificate"
   ]
  },
  {
   "cell_type": "code",
   "execution_count": 21,
   "id": "6edd62cc",
   "metadata": {},
   "outputs": [
    {
     "data": {
      "text/plain": [
       "canada     20.433\n",
       "england    32.456\n",
       "Name: country's population in percentage, dtype: float64"
      ]
     },
     "execution_count": 21,
     "metadata": {},
     "output_type": "execute_result"
    }
   ],
   "source": [
    "certificate.iloc[[0, 1]]"
   ]
  },
  {
   "cell_type": "code",
   "execution_count": 24,
   "id": "97b83ae7",
   "metadata": {},
   "outputs": [
    {
     "data": {
      "text/plain": [
       "canada     20.433\n",
       "england    32.456\n",
       "america    60.444\n",
       "Name: country's population in percentage, dtype: float64"
      ]
     },
     "execution_count": 24,
     "metadata": {},
     "output_type": "execute_result"
    }
   ],
   "source": [
    "certificate['canada' : 'america']"
   ]
  },
  {
   "cell_type": "code",
   "execution_count": 25,
   "id": "fe59bb17",
   "metadata": {},
   "outputs": [
    {
     "data": {
      "text/plain": [
       "canada      True\n",
       "england     True\n",
       "america     True\n",
       "nigeria    False\n",
       "Name: country's population in percentage, dtype: bool"
      ]
     },
     "execution_count": 25,
     "metadata": {},
     "output_type": "execute_result"
    }
   ],
   "source": [
    "certificate > 20"
   ]
  },
  {
   "cell_type": "code",
   "execution_count": 26,
   "id": "2ad4cc78",
   "metadata": {},
   "outputs": [
    {
     "data": {
      "text/plain": [
       "canada     20.433\n",
       "england    32.456\n",
       "america    60.444\n",
       "Name: country's population in percentage, dtype: float64"
      ]
     },
     "execution_count": 26,
     "metadata": {},
     "output_type": "execute_result"
    }
   ],
   "source": [
    "certificate [certificate > 20]"
   ]
  },
  {
   "cell_type": "code",
   "execution_count": 27,
   "id": "267a8dcf",
   "metadata": {},
   "outputs": [],
   "source": [
    "certificate['canada']= 80.551"
   ]
  },
  {
   "cell_type": "code",
   "execution_count": 28,
   "id": "0ca2c651",
   "metadata": {},
   "outputs": [
    {
     "data": {
      "text/plain": [
       "canada     80.551\n",
       "england    32.456\n",
       "america    60.444\n",
       "nigeria    12.322\n",
       "Name: country's population in percentage, dtype: float64"
      ]
     },
     "execution_count": 28,
     "metadata": {},
     "output_type": "execute_result"
    }
   ],
   "source": [
    "certificate"
   ]
  },
  {
   "cell_type": "code",
   "execution_count": null,
   "id": "363437a2",
   "metadata": {},
   "outputs": [],
   "source": []
  }
 ],
 "metadata": {
  "kernelspec": {
   "display_name": "Python 3",
   "language": "python",
   "name": "python3"
  },
  "language_info": {
   "codemirror_mode": {
    "name": "ipython",
    "version": 3
   },
   "file_extension": ".py",
   "mimetype": "text/x-python",
   "name": "python",
   "nbconvert_exporter": "python",
   "pygments_lexer": "ipython3",
   "version": "3.8.8"
  }
 },
 "nbformat": 4,
 "nbformat_minor": 5
}
